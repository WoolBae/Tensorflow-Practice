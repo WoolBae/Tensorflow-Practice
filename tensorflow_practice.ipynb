{
 "cells": [
  {
   "cell_type": "code",
   "execution_count": 1,
   "metadata": {
    "collapsed": true
   },
   "outputs": [],
   "source": [
    "%matplotlib inline\n",
    "import tensorflow as tf\n",
    "import numpy as np"
   ]
  },
  {
   "cell_type": "code",
   "execution_count": 10,
   "metadata": {
    "collapsed": true
   },
   "outputs": [],
   "source": [
    "node1 = tf.constant(3.0, tf.float32)\n",
    "node2 = tf.constant(4.0)"
   ]
  },
  {
   "cell_type": "code",
   "execution_count": 19,
   "metadata": {
    "collapsed": true
   },
   "outputs": [],
   "source": [
    "node1 = tf.constant(3.0, tf.float32)\n",
    "node2 = tf.constant(4.0)"
   ]
  },
  {
   "cell_type": "code",
   "execution_count": 20,
   "metadata": {},
   "outputs": [
    {
     "name": "stdout",
     "output_type": "stream",
     "text": [
      "Tensor(\"Const_18:0\", shape=(), dtype=float32)\n",
      "Tensor(\"Const_19:0\", shape=(), dtype=float32)\n"
     ]
    }
   ],
   "source": [
    "print(node1)\n",
    "print(node2)"
   ]
  },
  {
   "cell_type": "code",
   "execution_count": 21,
   "metadata": {},
   "outputs": [
    {
     "name": "stdout",
     "output_type": "stream",
     "text": [
      "Tensor(\"add_1:0\", shape=(), dtype=float32)\n"
     ]
    }
   ],
   "source": [
    "print(node1 + node2)"
   ]
  },
  {
   "cell_type": "code",
   "execution_count": 29,
   "metadata": {
    "collapsed": true
   },
   "outputs": [],
   "source": [
    "node3 = tf.add(node1,node2)"
   ]
  },
  {
   "cell_type": "code",
   "execution_count": null,
   "metadata": {
    "collapsed": true
   },
   "outputs": [],
   "source": [
    "node3 = tf.add(node1,node2)"
   ]
  },
  {
   "cell_type": "code",
   "execution_count": 30,
   "metadata": {},
   "outputs": [
    {
     "data": {
      "text/plain": [
       "<tf.Tensor 'Add_2:0' shape=() dtype=float32>"
      ]
     },
     "execution_count": 30,
     "metadata": {},
     "output_type": "execute_result"
    }
   ],
   "source": [
    "node3"
   ]
  },
  {
   "cell_type": "code",
   "execution_count": 31,
   "metadata": {
    "collapsed": true
   },
   "outputs": [],
   "source": [
    "sess = tf.Session()"
   ]
  },
  {
   "cell_type": "code",
   "execution_count": 35,
   "metadata": {
    "collapsed": true
   },
   "outputs": [],
   "source": [
    "sess = tf.Session()"
   ]
  },
  {
   "cell_type": "code",
   "execution_count": 36,
   "metadata": {},
   "outputs": [
    {
     "data": {
      "text/plain": [
       "7.0"
      ]
     },
     "execution_count": 36,
     "metadata": {},
     "output_type": "execute_result"
    }
   ],
   "source": [
    "sess.run(node3)"
   ]
  },
  {
   "cell_type": "code",
   "execution_count": 37,
   "metadata": {},
   "outputs": [
    {
     "data": {
      "text/plain": [
       "(3.0, 4.0)"
      ]
     },
     "execution_count": 37,
     "metadata": {},
     "output_type": "execute_result"
    }
   ],
   "source": [
    "sess.run((node1,node2))"
   ]
  },
  {
   "cell_type": "code",
   "execution_count": 40,
   "metadata": {},
   "outputs": [
    {
     "data": {
      "text/plain": [
       "(3.0, 4.0)"
      ]
     },
     "execution_count": 40,
     "metadata": {},
     "output_type": "execute_result"
    }
   ],
   "source": [
    "sess.run((node1,node2))"
   ]
  },
  {
   "cell_type": "code",
   "execution_count": 41,
   "metadata": {},
   "outputs": [
    {
     "data": {
      "text/plain": [
       "7.0"
      ]
     },
     "execution_count": 41,
     "metadata": {},
     "output_type": "execute_result"
    }
   ],
   "source": [
    "sess.run(node3)"
   ]
  },
  {
   "cell_type": "markdown",
   "metadata": {},
   "source": [
    "Placeholder : 처음에 숫자지정하지 않고 나중에 지정할 수 있다."
   ]
  },
  {
   "cell_type": "code",
   "execution_count": 23,
   "metadata": {
    "collapsed": true
   },
   "outputs": [],
   "source": [
    "a = tf.placeholder(tf.float32)\n",
    "b = tf.placeholder(tf.float32)"
   ]
  },
  {
   "cell_type": "code",
   "execution_count": 42,
   "metadata": {
    "collapsed": true
   },
   "outputs": [],
   "source": [
    "a = tf.placeholder(tf.float32)\n",
    "b = tf.placeholder(tf.float32)"
   ]
  },
  {
   "cell_type": "code",
   "execution_count": 24,
   "metadata": {
    "collapsed": true
   },
   "outputs": [],
   "source": [
    "adder_node = a + b"
   ]
  },
  {
   "cell_type": "code",
   "execution_count": 43,
   "metadata": {},
   "outputs": [],
   "source": [
    "adder_node = a + b"
   ]
  },
  {
   "cell_type": "code",
   "execution_count": 26,
   "metadata": {},
   "outputs": [
    {
     "name": "stdout",
     "output_type": "stream",
     "text": [
      "7.5\n"
     ]
    }
   ],
   "source": [
    "print(sess.run(adder_node, feed_dict={a:3,b:4.5}))"
   ]
  },
  {
   "cell_type": "code",
   "execution_count": 44,
   "metadata": {},
   "outputs": [
    {
     "data": {
      "text/plain": [
       "7.0"
      ]
     },
     "execution_count": 44,
     "metadata": {},
     "output_type": "execute_result"
    }
   ],
   "source": [
    "sess.run(adder_node, feed_dict={a:3,b:4})"
   ]
  },
  {
   "cell_type": "code",
   "execution_count": 28,
   "metadata": {},
   "outputs": [
    {
     "name": "stdout",
     "output_type": "stream",
     "text": [
      "9.6\n"
     ]
    }
   ],
   "source": [
    "print(sess.run(adder_node, feed_dict={a:5,b:4.6}))"
   ]
  },
  {
   "cell_type": "markdown",
   "metadata": {},
   "source": [
    "Rank and shape are important"
   ]
  },
  {
   "cell_type": "markdown",
   "metadata": {},
   "source": [
    "[3,3]"
   ]
  },
  {
   "cell_type": "code",
   "execution_count": 29,
   "metadata": {},
   "outputs": [
    {
     "data": {
      "text/plain": [
       "[[1, 2, 3], [4, 5, 6], [7, 8, 9]]"
      ]
     },
     "execution_count": 29,
     "metadata": {},
     "output_type": "execute_result"
    }
   ],
   "source": [
    "[[1,2,3],[4,5,6],[7,8,9]]"
   ]
  },
  {
   "cell_type": "code",
   "execution_count": null,
   "metadata": {
    "collapsed": true
   },
   "outputs": [],
   "source": []
  },
  {
   "cell_type": "markdown",
   "metadata": {},
   "source": [
    "# Linear Regression"
   ]
  },
  {
   "cell_type": "code",
   "execution_count": 30,
   "metadata": {
    "collapsed": true
   },
   "outputs": [],
   "source": []
  },
  {
   "cell_type": "code",
   "execution_count": 32,
   "metadata": {
    "collapsed": true
   },
   "outputs": [],
   "source": [
    "w = tf.Variable(tf.random_normal([1]), name='weight')\n",
    "b = tf.Variable(tf.random_normal([1]),name='bias')"
   ]
  },
  {
   "cell_type": "code",
   "execution_count": 33,
   "metadata": {
    "collapsed": true
   },
   "outputs": [],
   "source": [
    "hypothesis = x_train*w + b"
   ]
  },
  {
   "cell_type": "code",
   "execution_count": 34,
   "metadata": {
    "collapsed": true
   },
   "outputs": [],
   "source": [
    "cost = tf.reduce_mean(tf.square(hypothesis - y_train))"
   ]
  },
  {
   "cell_type": "code",
   "execution_count": 36,
   "metadata": {
    "collapsed": true
   },
   "outputs": [],
   "source": [
    "optimizer = tf.train.GradientDescentOptimizer(learning_rate = 0.01)"
   ]
  },
  {
   "cell_type": "code",
   "execution_count": 37,
   "metadata": {
    "collapsed": true
   },
   "outputs": [],
   "source": [
    "train = optimizer.minimize(cost)"
   ]
  },
  {
   "cell_type": "code",
   "execution_count": 38,
   "metadata": {
    "collapsed": true
   },
   "outputs": [],
   "source": [
    "sess = tf.Session()"
   ]
  },
  {
   "cell_type": "code",
   "execution_count": 39,
   "metadata": {
    "collapsed": true
   },
   "outputs": [],
   "source": [
    "sess.run(tf.global_variables_initializer())"
   ]
  },
  {
   "cell_type": "code",
   "execution_count": 45,
   "metadata": {
    "collapsed": true
   },
   "outputs": [],
   "source": [
    "x = tf.placeholder(tf.float32)\n",
    "y = tf.placeholder(tf.float32)"
   ]
  },
  {
   "cell_type": "code",
   "execution_count": null,
   "metadata": {
    "collapsed": true
   },
   "outputs": [],
   "source": []
  },
  {
   "cell_type": "markdown",
   "metadata": {},
   "source": [
    "feed_dict 사용하기"
   ]
  },
  {
   "cell_type": "code",
   "execution_count": 46,
   "metadata": {},
   "outputs": [
    {
     "name": "stdout",
     "output_type": "stream",
     "text": [
      "0 5.23724e-06 [ 1.00265157] [-0.00602761]\n",
      "20 4.75664e-06 [ 1.00252712] [-0.00574441]\n",
      "40 4.32003e-06 [ 1.00240827] [-0.00547452]\n",
      "60 3.92343e-06 [ 1.00229514] [-0.00521726]\n",
      "80 3.56386e-06 [ 1.00218737] [-0.00497214]\n",
      "100 3.23681e-06 [ 1.00208461] [-0.00473854]\n",
      "120 2.93974e-06 [ 1.00198662] [-0.00451589]\n",
      "140 2.67002e-06 [ 1.00189328] [-0.0043037]\n",
      "160 2.42481e-06 [ 1.00180423] [-0.00410147]\n",
      "180 2.2025e-06 [ 1.00171959] [-0.00390879]\n",
      "200 2.00032e-06 [ 1.00163877] [-0.00372513]\n",
      "220 1.81672e-06 [ 1.00156164] [-0.0035501]\n",
      "240 1.65004e-06 [ 1.00148845] [-0.00338332]\n",
      "260 1.49866e-06 [ 1.00141847] [-0.00322439]\n",
      "280 1.36106e-06 [ 1.00135183] [-0.00307291]\n",
      "300 1.23628e-06 [ 1.00128841] [-0.00292855]\n",
      "320 1.12304e-06 [ 1.00122786] [-0.00279098]\n",
      "340 1.01993e-06 [ 1.00117016] [-0.00265992]\n",
      "360 9.26422e-07 [ 1.00111508] [-0.002535]\n",
      "380 8.41317e-07 [ 1.00106275] [-0.00241595]\n",
      "400 7.64181e-07 [ 1.00101292] [-0.00230249]\n",
      "420 6.94231e-07 [ 1.00096524] [-0.00219443]\n",
      "440 6.30481e-07 [ 1.00091994] [-0.00209138]\n",
      "460 5.72724e-07 [ 1.0008769] [-0.0019932]\n",
      "480 5.20251e-07 [ 1.0008359] [-0.00189964]\n",
      "500 4.72453e-07 [ 1.00079668] [-0.00181045]\n",
      "520 4.29166e-07 [ 1.00075912] [-0.00172544]\n",
      "540 3.89774e-07 [ 1.00072336] [-0.00164449]\n",
      "560 3.54128e-07 [ 1.00068974] [-0.00156733]\n",
      "580 3.21646e-07 [ 1.00065732] [-0.00149375]\n",
      "600 2.92168e-07 [ 1.00062633] [-0.00142374]\n",
      "620 2.65466e-07 [ 1.00059736] [-0.00135697]\n",
      "640 2.4111e-07 [ 1.00056899] [-0.00129336]\n",
      "660 2.19075e-07 [ 1.00054264] [-0.00123277]\n",
      "680 1.98971e-07 [ 1.00051689] [-0.00117492]\n",
      "700 1.80878e-07 [ 1.00049293] [-0.00111989]\n",
      "720 1.64239e-07 [ 1.00046945] [-0.00106732]\n",
      "740 1.49232e-07 [ 1.00044787] [-0.00101732]\n",
      "760 1.35511e-07 [ 1.00042641] [-0.00096965]\n",
      "780 1.23187e-07 [ 1.00040686] [-0.00092415]\n",
      "800 1.11925e-07 [ 1.00038779] [-0.00088101]\n",
      "820 1.01616e-07 [ 1.00036943] [-0.00083962]\n",
      "840 9.23715e-08 [ 1.0003525] [-0.00080035]\n",
      "860 8.39361e-08 [ 1.00033581] [-0.00076302]\n",
      "880 7.62265e-08 [ 1.00031984] [-0.00072713]\n",
      "900 6.92549e-08 [ 1.00030529] [-0.00069313]\n",
      "920 6.29746e-08 [ 1.00029099] [-0.00066086]\n",
      "940 5.71654e-08 [ 1.00027692] [-0.00062982]\n",
      "960 5.19406e-08 [ 1.00026429] [-0.00060025]\n",
      "980 4.72291e-08 [ 1.00025213] [-0.00057227]\n",
      "1000 4.29249e-08 [ 1.00024021] [-0.00054563]\n",
      "1020 3.89592e-08 [ 1.00022852] [-0.00051995]\n",
      "1040 3.54014e-08 [ 1.00021803] [-0.0004955]\n",
      "1060 3.21798e-08 [ 1.00020814] [-0.00047238]\n",
      "1080 2.92739e-08 [ 1.0001986] [-0.00045051]\n",
      "1100 2.66031e-08 [ 1.00018907] [-0.00042957]\n",
      "1120 2.41479e-08 [ 1.00017989] [-0.0004093]\n",
      "1140 2.19144e-08 [ 1.00017166] [-0.00039001]\n",
      "1160 1.99398e-08 [ 1.00016379] [-0.00037179]\n",
      "1180 1.81151e-08 [ 1.0001564] [-0.00035455]\n",
      "1200 1.64982e-08 [ 1.00014925] [-0.00033826]\n",
      "1220 1.50116e-08 [ 1.0001421] [-0.00032262]\n",
      "1240 1.35991e-08 [ 1.00013506] [-0.00030743]\n",
      "1260 1.23627e-08 [ 1.00012875] [-0.00029284]\n",
      "1280 1.12263e-08 [ 1.00012279] [-0.00027904]\n",
      "1300 1.02126e-08 [ 1.00011718] [-0.000266]\n",
      "1320 9.29735e-09 [ 1.00011182] [-0.00025367]\n",
      "1340 8.4524e-09 [ 1.00010681] [-0.00024198]\n",
      "1360 7.70018e-09 [ 1.00010204] [-0.00023095]\n",
      "1380 7.0027e-09 [ 1.00009727] [-0.0002204]\n",
      "1400 6.36841e-09 [ 1.00009251] [-0.0002102]\n",
      "1420 5.77024e-09 [ 1.00008774] [-0.00020022]\n",
      "1440 5.2336e-09 [ 1.00008368] [-0.0001906]\n",
      "1460 4.74853e-09 [ 1.00007975] [-0.00018151]\n",
      "1480 4.30421e-09 [ 1.00007606] [-0.00017292]\n",
      "1500 3.91316e-09 [ 1.0000726] [-0.00016479]\n",
      "1520 3.56335e-09 [ 1.00006914] [-0.0001571]\n",
      "1540 3.23077e-09 [ 1.00006604] [-0.00014981]\n",
      "1560 2.9461e-09 [ 1.00006318] [-0.00014294]\n",
      "1580 2.6826e-09 [ 1.00006032] [-0.00013644]\n",
      "1600 2.45462e-09 [ 1.0000577] [-0.0001303]\n",
      "1620 2.24145e-09 [ 1.00005519] [-0.00012449]\n",
      "1640 2.04854e-09 [ 1.00005281] [-0.000119]\n",
      "1660 1.87146e-09 [ 1.00005043] [-0.00011374]\n",
      "1680 1.70355e-09 [ 1.00004804] [-0.00010865]\n",
      "1700 1.54838e-09 [ 1.00004566] [-0.00010367]\n",
      "1720 1.40531e-09 [ 1.00004327] [ -9.87581152e-05]\n",
      "1740 1.26684e-09 [ 1.00004089] [ -9.38935846e-05]\n",
      "1760 1.14182e-09 [ 1.00003886] [ -8.91995223e-05]\n",
      "1780 1.03401e-09 [ 1.00003695] [ -8.47545889e-05]\n",
      "1800 9.32551e-10 [ 1.00003517] [ -8.05548407e-05]\n",
      "1820 8.44352e-10 [ 1.0000335] [ -7.65899313e-05]\n",
      "1840 7.64891e-10 [ 1.00003183] [ -7.28388113e-05]\n",
      "1860 6.90218e-10 [ 1.0000304] [ -6.92887479e-05]\n",
      "1880 6.25606e-10 [ 1.00002897] [ -6.59409416e-05]\n",
      "1900 5.68131e-10 [ 1.00002754] [ -6.27787304e-05]\n",
      "1920 5.18644e-10 [ 1.00002623] [ -5.97893486e-05]\n",
      "1940 4.67959e-10 [ 1.00002503] [ -5.69505792e-05]\n",
      "1960 4.26801e-10 [ 1.00002384] [ -5.42735361e-05]\n",
      "1980 3.84877e-10 [ 1.00002289] [ -5.17395529e-05]\n",
      "2000 3.51392e-10 [ 1.00002182] [ -4.93498083e-05]\n"
     ]
    }
   ],
   "source": [
    "for step in range(2001):\n",
    "    cost_val,w_val,b_val,_ =sess.run([cost,w,b,train],\n",
    "                                    feed_dict ={x:[1,2,3,4,5],\n",
    "                                               y:[2.1,3.1,4.1,5.1,6.1]})\n",
    "    if step % 20 ==0:\n",
    "        print(step,cost_val,w_val,b_val)"
   ]
  },
  {
   "cell_type": "code",
   "execution_count": 47,
   "metadata": {
    "collapsed": true
   },
   "outputs": [],
   "source": [
    "import matplotlib.pyplot as plt"
   ]
  },
  {
   "cell_type": "code",
   "execution_count": 50,
   "metadata": {
    "collapsed": true
   },
   "outputs": [],
   "source": [
    "x = [1,2,3]\n",
    "y = [1,2,3]\n",
    "w =tf.placeholder(tf.float32)"
   ]
  },
  {
   "cell_type": "code",
   "execution_count": 51,
   "metadata": {
    "collapsed": true
   },
   "outputs": [],
   "source": [
    "hypothesis = x*w"
   ]
  },
  {
   "cell_type": "code",
   "execution_count": 52,
   "metadata": {
    "collapsed": true
   },
   "outputs": [],
   "source": [
    "cost = tf.reduce_mean(tf.square(hypothesis -y))"
   ]
  },
  {
   "cell_type": "code",
   "execution_count": 53,
   "metadata": {
    "collapsed": true
   },
   "outputs": [],
   "source": [
    "sess = tf.Session()"
   ]
  },
  {
   "cell_type": "code",
   "execution_count": 54,
   "metadata": {
    "collapsed": true
   },
   "outputs": [],
   "source": [
    "sess.run(tf.global_variables_initializer())"
   ]
  },
  {
   "cell_type": "code",
   "execution_count": 55,
   "metadata": {
    "collapsed": true
   },
   "outputs": [],
   "source": [
    "w_val =[]"
   ]
  },
  {
   "cell_type": "code",
   "execution_count": 56,
   "metadata": {
    "collapsed": true
   },
   "outputs": [],
   "source": [
    "cost_val =[]"
   ]
  },
  {
   "cell_type": "code",
   "execution_count": 59,
   "metadata": {
    "collapsed": true
   },
   "outputs": [],
   "source": [
    "for i in range(-30,50):\n",
    "    feed_w = i*0.1\n",
    "    curr_cost,curr_w = sess.run([cost,w],feed_dict={w:feed_w})\n",
    "    w_val.append(curr_w)\n",
    "    cost_val.append(curr_cost)"
   ]
  },
  {
   "cell_type": "code",
   "execution_count": 62,
   "metadata": {},
   "outputs": [
    {
     "data": {
      "text/plain": [
       "[<matplotlib.lines.Line2D at 0x22fe2eedf28>]"
      ]
     },
     "execution_count": 62,
     "metadata": {},
     "output_type": "execute_result"
    },
    {
     "data": {
      "image/png": "[encoded data removed]",
      "text/plain": [
       "<matplotlib.figure.Figure at 0x22fe2c2f898>"
      ]
     },
     "metadata": {},
     "output_type": "display_data"
    }
   ],
   "source": [
    "plt.plot(w_val,cost_val)"
   ]
  },
  {
   "cell_type": "markdown",
   "metadata": {
    "collapsed": true
   },
   "source": [
    "# Multi variable"
   ]
  },
  {
   "cell_type": "code",
   "execution_count": 64,
   "metadata": {
    "collapsed": true
   },
   "outputs": [],
   "source": [
    "x1_data =[73.,93.,89.,96.,73.]\n",
    "x2_data = [80.,88.,91.,98.,66.]\n",
    "x3_data = [75.,93.,90.,100.,70.]\n",
    "y_data = [152.,185.,180.,196.,142.]"
   ]
  },
  {
   "cell_type": "code",
   "execution_count": 66,
   "metadata": {
    "collapsed": true
   },
   "outputs": [],
   "source": [
    "x1 = tf.placeholder(tf.float32)\n",
    "x2 = tf.placeholder(tf.float32)\n",
    "x3 = tf.placeholder(tf.float32)\n"
   ]
  },
  {
   "cell_type": "code",
   "execution_count": 67,
   "metadata": {
    "collapsed": true
   },
   "outputs": [],
   "source": [
    "y = tf.placeholder(tf.float32)"
   ]
  },
  {
   "cell_type": "code",
   "execution_count": 70,
   "metadata": {
    "collapsed": true
   },
   "outputs": [],
   "source": [
    "w1 = tf.Variable(tf.random_normal([1]), name='weight1')\n",
    "w2 = tf.Variable(tf.random_normal([1]),name= 'weight2')\n",
    "w3 = tf.Variable(tf.random_normal([1]), name = 'weight3')\n",
    "b =  tf.Variable(tf.random_normal([1]), name='bias')"
   ]
  },
  {
   "cell_type": "code",
   "execution_count": 71,
   "metadata": {
    "collapsed": true
   },
   "outputs": [],
   "source": [
    "hypothesis = x1 * w1 + x2 * w2 + x3 * w3 + b"
   ]
  },
  {
   "cell_type": "code",
   "execution_count": 72,
   "metadata": {
    "collapsed": true
   },
   "outputs": [],
   "source": [
    "cost= tf.reduce_mean(tf.square(hypothesis - y))\n",
    "optimizer = tf.train.GradientDescentOptimizer(learning_rate =1e-5)\n",
    "train = optimizer.minimize(cost)"
   ]
  },
  {
   "cell_type": "code",
   "execution_count": 73,
   "metadata": {
    "collapsed": true
   },
   "outputs": [],
   "source": [
    "sess = tf.Session()"
   ]
  },
  {
   "cell_type": "code",
   "execution_count": 74,
   "metadata": {
    "collapsed": true
   },
   "outputs": [],
   "source": [
    "sess.run(tf.global_variables_initializer())"
   ]
  },
  {
   "cell_type": "code",
   "execution_count": 78,
   "metadata": {},
   "outputs": [
    {
     "name": "stdout",
     "output_type": "stream",
     "text": [
      "0 1.52592 170.882\n",
      "10 1.52382 170.882\n",
      "20 1.52171 170.882\n",
      "30 1.51961 170.882\n",
      "40 1.51754 170.882\n",
      "50 1.51545 170.882\n",
      "60 1.51339 170.882\n",
      "70 1.51133 170.882\n",
      "80 1.50928 170.882\n",
      "90 1.50725 170.882\n",
      "100 1.50521 170.882\n",
      "110 1.50319 170.882\n",
      "120 1.50118 170.882\n",
      "130 1.49918 170.882\n",
      "140 1.49718 170.882\n",
      "150 1.49519 170.882\n",
      "160 1.49322 170.882\n",
      "170 1.49123 170.882\n",
      "180 1.48928 170.882\n",
      "190 1.48731 170.882\n",
      "200 1.48537 170.882\n",
      "210 1.48343 170.882\n",
      "220 1.4815 170.882\n",
      "230 1.47958 170.882\n",
      "240 1.47768 170.882\n",
      "250 1.47576 170.882\n",
      "260 1.47386 170.882\n",
      "270 1.47197 170.882\n",
      "280 1.4701 170.882\n",
      "290 1.46822 170.882\n",
      "300 1.46636 170.882\n",
      "310 1.46448 170.882\n",
      "320 1.46263 170.882\n",
      "330 1.4608 170.882\n",
      "340 1.45895 170.882\n",
      "350 1.45712 170.882\n",
      "360 1.4553 170.882\n",
      "370 1.4535 170.882\n",
      "380 1.45168 170.882\n",
      "390 1.44987 170.882\n",
      "400 1.4481 170.882\n",
      "410 1.44631 170.882\n",
      "420 1.44454 170.882\n",
      "430 1.44276 170.882\n",
      "440 1.441 170.882\n",
      "450 1.43925 170.882\n",
      "460 1.43749 170.882\n",
      "470 1.43576 170.882\n",
      "480 1.43403 170.882\n",
      "490 1.43228 170.882\n",
      "500 1.43058 170.882\n",
      "510 1.42885 170.882\n",
      "520 1.42714 170.882\n",
      "530 1.42546 170.882\n",
      "540 1.42376 170.882\n",
      "550 1.42207 170.882\n",
      "560 1.4204 170.882\n",
      "570 1.4187 170.882\n",
      "580 1.41706 170.882\n",
      "590 1.4154 170.882\n",
      "600 1.41373 170.882\n",
      "610 1.4121 170.882\n",
      "620 1.41045 170.882\n",
      "630 1.40882 170.882\n",
      "640 1.4072 170.882\n",
      "650 1.40556 170.882\n",
      "660 1.40396 170.882\n",
      "670 1.40236 170.882\n",
      "680 1.40076 170.882\n",
      "690 1.39916 170.882\n",
      "700 1.39757 170.882\n",
      "710 1.39598 170.882\n",
      "720 1.39441 170.882\n",
      "730 1.39285 170.882\n",
      "740 1.39128 170.882\n",
      "750 1.38973 170.882\n",
      "760 1.38817 170.882\n",
      "770 1.38663 170.882\n",
      "780 1.38509 170.882\n",
      "790 1.38354 170.882\n",
      "800 1.38202 170.882\n",
      "810 1.38051 170.882\n",
      "820 1.379 170.882\n",
      "830 1.37748 170.882\n",
      "840 1.37598 170.882\n",
      "850 1.37449 170.882\n",
      "860 1.37299 170.882\n",
      "870 1.3715 170.882\n",
      "880 1.37001 170.882\n",
      "890 1.36855 170.882\n",
      "900 1.36708 170.882\n",
      "910 1.36562 170.882\n",
      "920 1.36415 170.882\n",
      "930 1.36271 170.882\n",
      "940 1.36125 170.882\n",
      "950 1.35982 170.882\n",
      "960 1.35838 170.882\n",
      "970 1.35695 170.882\n",
      "980 1.35554 170.882\n",
      "990 1.3541 170.882\n",
      "1000 1.3527 170.882\n",
      "1010 1.35127 170.882\n",
      "1020 1.34988 170.882\n",
      "1030 1.34849 170.883\n",
      "1040 1.34709 170.883\n",
      "1050 1.34571 170.883\n",
      "1060 1.34431 170.883\n",
      "1070 1.34295 170.883\n",
      "1080 1.34157 170.883\n",
      "1090 1.34021 170.883\n",
      "1100 1.33885 170.883\n",
      "1110 1.33749 170.883\n",
      "1120 1.33614 170.883\n",
      "1130 1.33478 170.883\n",
      "1140 1.33345 170.883\n",
      "1150 1.3321 170.883\n",
      "1160 1.33079 170.883\n",
      "1170 1.32944 170.883\n",
      "1180 1.32813 170.883\n",
      "1190 1.32682 170.883\n",
      "1200 1.3255 170.883\n",
      "1210 1.32419 170.883\n",
      "1220 1.32287 170.883\n",
      "1230 1.32159 170.883\n",
      "1240 1.3203 170.883\n",
      "1250 1.31901 170.883\n",
      "1260 1.31773 170.883\n",
      "1270 1.31646 170.883\n",
      "1280 1.31517 170.883\n",
      "1290 1.31391 170.883\n",
      "1300 1.31263 170.883\n",
      "1310 1.31137 170.883\n",
      "1320 1.31013 170.883\n",
      "1330 1.30887 170.883\n",
      "1340 1.30763 170.883\n",
      "1350 1.30638 170.883\n",
      "1360 1.30514 170.883\n",
      "1370 1.30391 170.883\n",
      "1380 1.30268 170.883\n",
      "1390 1.30145 170.883\n",
      "1400 1.30024 170.883\n",
      "1410 1.29903 170.883\n",
      "1420 1.29781 170.883\n",
      "1430 1.29659 170.883\n",
      "1440 1.29539 170.883\n",
      "1450 1.2942 170.883\n",
      "1460 1.29301 170.883\n",
      "1470 1.2918 170.883\n",
      "1480 1.29062 170.883\n",
      "1490 1.28944 170.883\n",
      "1500 1.28827 170.883\n",
      "1510 1.28708 170.883\n",
      "1520 1.28592 170.883\n",
      "1530 1.28476 170.883\n",
      "1540 1.28359 170.883\n",
      "1550 1.28244 170.883\n",
      "1560 1.28129 170.883\n",
      "1570 1.28014 170.883\n",
      "1580 1.27899 170.883\n",
      "1590 1.27785 170.883\n",
      "1600 1.27671 170.883\n",
      "1610 1.27558 170.883\n",
      "1620 1.27445 170.883\n",
      "1630 1.27333 170.883\n",
      "1640 1.27219 170.883\n",
      "1650 1.27108 170.883\n",
      "1660 1.26996 170.883\n",
      "1670 1.26886 170.883\n",
      "1680 1.26774 170.883\n",
      "1690 1.26665 170.883\n",
      "1700 1.26553 170.883\n",
      "1710 1.26444 170.883\n",
      "1720 1.26335 170.883\n",
      "1730 1.26227 170.883\n",
      "1740 1.2612 170.883\n",
      "1750 1.2601 170.883\n",
      "1760 1.25903 170.883\n",
      "1770 1.25796 170.883\n",
      "1780 1.25689 170.883\n",
      "1790 1.25581 170.883\n",
      "1800 1.25476 170.883\n",
      "1810 1.2537 170.883\n",
      "1820 1.25265 170.883\n",
      "1830 1.25157 170.883\n",
      "1840 1.25053 170.883\n",
      "1850 1.24949 170.883\n",
      "1860 1.24845 170.883\n",
      "1870 1.2474 170.883\n",
      "1880 1.24638 170.883\n",
      "1890 1.24535 170.883\n",
      "1900 1.24432 170.883\n",
      "1910 1.2433 170.883\n",
      "1920 1.24227 170.883\n",
      "1930 1.24126 170.883\n",
      "1940 1.24024 170.883\n",
      "1950 1.23924 170.883\n",
      "1960 1.23822 170.883\n",
      "1970 1.23721 170.883\n",
      "1980 1.23622 170.883\n",
      "1990 1.23522 170.883\n",
      "2000 1.23421 170.883\n"
     ]
    }
   ],
   "source": [
    "for step in range(2001):\n",
    "    cost_val, hy_val,_ = sess.run([cost,hypothesis,train],\n",
    "                                 feed_dict ={x1:x1_data, x2:x2_data,x3:x3_data,y:y_data})\n",
    "    if step % 10 ==0:\n",
    "        print(step,cost_val, hy_val.mean())"
   ]
  },
  {
   "cell_type": "markdown",
   "metadata": {},
   "source": [
    "Using Matrix"
   ]
  },
  {
   "cell_type": "code",
   "execution_count": 79,
   "metadata": {
    "collapsed": true
   },
   "outputs": [],
   "source": [
    "x_data = [[73,80,75], [93,88,93],[89,91,90],[96,98,100],[73,66,70]]\n",
    "y_data = [[152],[185],[180],[196],[142]]"
   ]
  },
  {
   "cell_type": "code",
   "execution_count": 81,
   "metadata": {
    "collapsed": true
   },
   "outputs": [],
   "source": [
    "x = tf.placeholder(tf.float32, shape =[None,3])\n",
    "y = tf.placeholder(tf.float32, shape =[None,1])\n",
    "\n",
    "w = tf.Variable(tf.random_normal([3,1]), name ='weight')\n",
    "b = tf.Variable(tf.random_normal([1]), name ='bias')"
   ]
  },
  {
   "cell_type": "code",
   "execution_count": 82,
   "metadata": {
    "collapsed": true
   },
   "outputs": [],
   "source": [
    "hypothesis = tf.matmul(x,w) + b"
   ]
  },
  {
   "cell_type": "code",
   "execution_count": 83,
   "metadata": {
    "collapsed": true
   },
   "outputs": [],
   "source": [
    "cost = tf.reduce_mean(tf.square(hypothesis - y))\n",
    "optimizer = tf.train.GradientDescentOptimizer(learning_rate = 1e-5)\n",
    "train = optimizer.minimize(cost)"
   ]
  },
  {
   "cell_type": "code",
   "execution_count": 85,
   "metadata": {
    "collapsed": true
   },
   "outputs": [],
   "source": [
    "sess = tf.Session()"
   ]
  },
  {
   "cell_type": "code",
   "execution_count": 86,
   "metadata": {
    "collapsed": true
   },
   "outputs": [],
   "source": [
    "sess.run(tf.global_variables_initializer())"
   ]
  },
  {
   "cell_type": "code",
   "execution_count": 92,
   "metadata": {},
   "outputs": [
    {
     "name": "stdout",
     "output_type": "stream",
     "text": [
      "0 0.789554 [[ 152.12405396]\n",
      " [ 184.13064575]\n",
      " [ 180.60879517]\n",
      " [ 197.07072449]\n",
      " [ 140.71177673]]\n",
      "10 0.787073 [[ 152.12158203]\n",
      " [ 184.13235474]\n",
      " [ 180.60804749]\n",
      " [ 197.06996155]\n",
      " [ 140.71421814]]\n",
      "20 0.784628 [[ 152.11912537]\n",
      " [ 184.13406372]\n",
      " [ 180.60733032]\n",
      " [ 197.06922913]\n",
      " [ 140.71664429]]\n",
      "30 0.78217 [[ 152.1166687 ]\n",
      " [ 184.13578796]\n",
      " [ 180.60661316]\n",
      " [ 197.06848145]\n",
      " [ 140.71908569]]\n",
      "40 0.77974 [[ 152.11421204]\n",
      " [ 184.13748169]\n",
      " [ 180.60588074]\n",
      " [ 197.06773376]\n",
      " [ 140.72149658]]\n",
      "50 0.777331 [[ 152.11177063]\n",
      " [ 184.13917542]\n",
      " [ 180.60517883]\n",
      " [ 197.06700134]\n",
      " [ 140.72390747]]\n",
      "60 0.774915 [[ 152.10932922]\n",
      " [ 184.14086914]\n",
      " [ 180.60444641]\n",
      " [ 197.06625366]\n",
      " [ 140.72631836]]\n",
      "70 0.772513 [[ 152.10690308]\n",
      " [ 184.14256287]\n",
      " [ 180.60374451]\n",
      " [ 197.06550598]\n",
      " [ 140.72872925]]\n",
      "80 0.770135 [[ 152.10447693]\n",
      " [ 184.14425659]\n",
      " [ 180.60302734]\n",
      " [ 197.06478882]\n",
      " [ 140.73112488]]\n",
      "90 0.767768 [[ 152.10206604]\n",
      " [ 184.1459198 ]\n",
      " [ 180.60231018]\n",
      " [ 197.06404114]\n",
      " [ 140.73350525]]\n",
      "100 0.76539 [[ 152.09965515]\n",
      " [ 184.14761353]\n",
      " [ 180.60159302]\n",
      " [ 197.06329346]\n",
      " [ 140.73590088]]\n",
      "110 0.763055 [[ 152.09725952]\n",
      " [ 184.14927673]\n",
      " [ 180.60090637]\n",
      " [ 197.06259155]\n",
      " [ 140.73829651]]\n",
      "120 0.760721 [[ 152.09486389]\n",
      " [ 184.15093994]\n",
      " [ 180.60018921]\n",
      " [ 197.06185913]\n",
      " [ 140.74066162]]\n",
      "130 0.758404 [[ 152.09246826]\n",
      " [ 184.15258789]\n",
      " [ 180.5994873 ]\n",
      " [ 197.06111145]\n",
      " [ 140.74301147]]\n",
      "140 0.756083 [[ 152.09007263]\n",
      " [ 184.1542511 ]\n",
      " [ 180.59877014]\n",
      " [ 197.06037903]\n",
      " [ 140.74537659]]\n",
      "150 0.75379 [[ 152.08770752]\n",
      " [ 184.15591431]\n",
      " [ 180.5980835 ]\n",
      " [ 197.05966187]\n",
      " [ 140.74772644]]\n",
      "160 0.751493 [[ 152.08532715]\n",
      " [ 184.157547  ]\n",
      " [ 180.59736633]\n",
      " [ 197.05891418]\n",
      " [ 140.75007629]]\n",
      "170 0.74923 [[ 152.08297729]\n",
      " [ 184.15917969]\n",
      " [ 180.59667969]\n",
      " [ 197.05819702]\n",
      " [ 140.75241089]]\n",
      "180 0.746966 [[ 152.08062744]\n",
      " [ 184.16081238]\n",
      " [ 180.59599304]\n",
      " [ 197.05747986]\n",
      " [ 140.75476074]]\n",
      "190 0.744722 [[ 152.07827759]\n",
      " [ 184.16244507]\n",
      " [ 180.5953064 ]\n",
      " [ 197.0567627 ]\n",
      " [ 140.75708008]]\n",
      "200 0.742478 [[ 152.07594299]\n",
      " [ 184.16407776]\n",
      " [ 180.59461975]\n",
      " [ 197.05604553]\n",
      " [ 140.75941467]]\n",
      "210 0.740244 [[ 152.07359314]\n",
      " [ 184.16571045]\n",
      " [ 180.59391785]\n",
      " [ 197.05531311]\n",
      " [ 140.76171875]]\n",
      "220 0.738041 [[ 152.07125854]\n",
      " [ 184.16732788]\n",
      " [ 180.59324646]\n",
      " [ 197.05461121]\n",
      " [ 140.76402283]]\n",
      "230 0.735828 [[ 152.06895447]\n",
      " [ 184.16894531]\n",
      " [ 180.59255981]\n",
      " [ 197.05389404]\n",
      " [ 140.76634216]]\n",
      "240 0.733639 [[ 152.06663513]\n",
      " [ 184.17054749]\n",
      " [ 180.59187317]\n",
      " [ 197.05317688]\n",
      " [ 140.76863098]]\n",
      "250 0.731452 [[ 152.06433105]\n",
      " [ 184.17216492]\n",
      " [ 180.59121704]\n",
      " [ 197.05245972]\n",
      " [ 140.77093506]]\n",
      "260 0.729282 [[ 152.06202698]\n",
      " [ 184.17376709]\n",
      " [ 180.5905304 ]\n",
      " [ 197.05175781]\n",
      " [ 140.77322388]]\n",
      "270 0.727122 [[ 152.0597229 ]\n",
      " [ 184.175354  ]\n",
      " [ 180.58984375]\n",
      " [ 197.05105591]\n",
      " [ 140.7755127 ]]\n",
      "280 0.724972 [[ 152.05744934]\n",
      " [ 184.17695618]\n",
      " [ 180.58918762]\n",
      " [ 197.05033875]\n",
      " [ 140.77778625]]\n",
      "290 0.722839 [[ 152.05514526]\n",
      " [ 184.17854309]\n",
      " [ 180.58850098]\n",
      " [ 197.04963684]\n",
      " [ 140.78004456]]\n",
      "300 0.720706 [[ 152.05285645]\n",
      " [ 184.18011475]\n",
      " [ 180.58782959]\n",
      " [ 197.04891968]\n",
      " [ 140.78231812]]\n",
      "310 0.718592 [[ 152.05059814]\n",
      " [ 184.18170166]\n",
      " [ 180.58717346]\n",
      " [ 197.04821777]\n",
      " [ 140.78457642]]\n",
      "320 0.716488 [[ 152.04832458]\n",
      " [ 184.18327332]\n",
      " [ 180.58648682]\n",
      " [ 197.04751587]\n",
      " [ 140.78681946]]\n",
      "330 0.714397 [[ 152.04608154]\n",
      " [ 184.18484497]\n",
      " [ 180.58583069]\n",
      " [ 197.04682922]\n",
      " [ 140.78907776]]\n",
      "340 0.712317 [[ 152.04382324]\n",
      " [ 184.18640137]\n",
      " [ 180.58517456]\n",
      " [ 197.04611206]\n",
      " [ 140.79130554]]\n",
      "350 0.710236 [[ 152.0415802 ]\n",
      " [ 184.18797302]\n",
      " [ 180.58451843]\n",
      " [ 197.04542542]\n",
      " [ 140.79356384]]\n",
      "360 0.708176 [[ 152.03933716]\n",
      " [ 184.18951416]\n",
      " [ 180.58384705]\n",
      " [ 197.04470825]\n",
      " [ 140.79577637]]\n",
      "370 0.706125 [[ 152.03709412]\n",
      " [ 184.19108582]\n",
      " [ 180.58320618]\n",
      " [ 197.04402161]\n",
      " [ 140.79800415]]\n",
      "380 0.704089 [[ 152.03488159]\n",
      " [ 184.19262695]\n",
      " [ 180.58253479]\n",
      " [ 197.04333496]\n",
      " [ 140.80021667]]\n",
      "390 0.702053 [[ 152.03266907]\n",
      " [ 184.19418335]\n",
      " [ 180.58189392]\n",
      " [ 197.04264832]\n",
      " [ 140.80244446]]\n",
      "400 0.700043 [[ 152.03044128]\n",
      " [ 184.19570923]\n",
      " [ 180.58123779]\n",
      " [ 197.04196167]\n",
      " [ 140.80464172]]\n",
      "410 0.69804 [[ 152.02824402]\n",
      " [ 184.19725037]\n",
      " [ 180.58061218]\n",
      " [ 197.04127502]\n",
      " [ 140.80683899]]\n",
      "420 0.696033 [[ 152.02603149]\n",
      " [ 184.1987915 ]\n",
      " [ 180.5799408 ]\n",
      " [ 197.04058838]\n",
      " [ 140.80903625]]\n",
      "430 0.694046 [[ 152.02384949]\n",
      " [ 184.20031738]\n",
      " [ 180.57931519]\n",
      " [ 197.03990173]\n",
      " [ 140.81123352]]\n",
      "440 0.692074 [[ 152.02166748]\n",
      " [ 184.20184326]\n",
      " [ 180.57867432]\n",
      " [ 197.03923035]\n",
      " [ 140.81341553]]\n",
      "450 0.690104 [[ 152.01945496]\n",
      " [ 184.20333862]\n",
      " [ 180.57800293]\n",
      " [ 197.03852844]\n",
      " [ 140.81558228]]\n",
      "460 0.688134 [[ 152.01728821]\n",
      " [ 184.2048645 ]\n",
      " [ 180.57737732]\n",
      " [ 197.03782654]\n",
      " [ 140.81776428]]\n",
      "470 0.686199 [[ 152.01512146]\n",
      " [ 184.20637512]\n",
      " [ 180.57675171]\n",
      " [ 197.03717041]\n",
      " [ 140.81993103]]\n",
      "480 0.684254 [[ 152.01295471]\n",
      " [ 184.20788574]\n",
      " [ 180.57611084]\n",
      " [ 197.03648376]\n",
      " [ 140.82209778]]\n",
      "490 0.682325 [[ 152.01080322]\n",
      " [ 184.2093811 ]\n",
      " [ 180.57546997]\n",
      " [ 197.03579712]\n",
      " [ 140.82424927]]\n",
      "500 0.680414 [[ 152.00863647]\n",
      " [ 184.21086121]\n",
      " [ 180.5748291 ]\n",
      " [ 197.03511047]\n",
      " [ 140.8263855 ]]\n",
      "510 0.678503 [[ 152.00650024]\n",
      " [ 184.21237183]\n",
      " [ 180.57421875]\n",
      " [ 197.03445435]\n",
      " [ 140.82855225]]\n",
      "520 0.676607 [[ 152.00437927]\n",
      " [ 184.21388245]\n",
      " [ 180.57359314]\n",
      " [ 197.03379822]\n",
      " [ 140.83068848]]\n",
      "530 0.674721 [[ 152.00221252]\n",
      " [ 184.21533203]\n",
      " [ 180.57295227]\n",
      " [ 197.03309631]\n",
      " [ 140.83280945]]\n",
      "540 0.672837 [[ 152.00009155]\n",
      " [ 184.21682739]\n",
      " [ 180.57234192]\n",
      " [ 197.03242493]\n",
      " [ 140.83494568]]\n",
      "550 0.670974 [[ 151.99797058]\n",
      " [ 184.2183075 ]\n",
      " [ 180.57171631]\n",
      " [ 197.0317688 ]\n",
      " [ 140.83706665]]\n",
      "560 0.669119 [[ 151.99586487]\n",
      " [ 184.21977234]\n",
      " [ 180.5710907 ]\n",
      " [ 197.03111267]\n",
      " [ 140.83918762]]\n",
      "570 0.667252 [[ 151.9937439 ]\n",
      " [ 184.22125244]\n",
      " [ 180.57046509]\n",
      " [ 197.03042603]\n",
      " [ 140.84130859]]\n",
      "580 0.665421 [[ 151.99165344]\n",
      " [ 184.22271729]\n",
      " [ 180.56987   ]\n",
      " [ 197.0297699 ]\n",
      " [ 140.84341431]]\n",
      "590 0.663594 [[ 151.98954773]\n",
      " [ 184.22416687]\n",
      " [ 180.56924438]\n",
      " [ 197.02909851]\n",
      " [ 140.84550476]]\n",
      "600 0.661769 [[ 151.98745728]\n",
      " [ 184.22563171]\n",
      " [ 180.56863403]\n",
      " [ 197.02844238]\n",
      " [ 140.84761047]]\n",
      "610 0.659962 [[ 151.98536682]\n",
      " [ 184.22706604]\n",
      " [ 180.56800842]\n",
      " [ 197.027771  ]\n",
      " [ 140.84968567]]\n",
      "620 0.658156 [[ 151.98329163]\n",
      " [ 184.22853088]\n",
      " [ 180.56741333]\n",
      " [ 197.02713013]\n",
      " [ 140.85179138]]\n",
      "630 0.656367 [[ 151.98121643]\n",
      " [ 184.22998047]\n",
      " [ 180.56681824]\n",
      " [ 197.026474  ]\n",
      " [ 140.85386658]]\n",
      "640 0.654575 [[ 151.97914124]\n",
      " [ 184.23141479]\n",
      " [ 180.56619263]\n",
      " [ 197.02580261]\n",
      " [ 140.85594177]]\n",
      "650 0.652801 [[ 151.97709656]\n",
      " [ 184.23286438]\n",
      " [ 180.56559753]\n",
      " [ 197.02516174]\n",
      " [ 140.85801697]]\n",
      "660 0.651039 [[ 151.97502136]\n",
      " [ 184.23428345]\n",
      " [ 180.56498718]\n",
      " [ 197.02449036]\n",
      " [ 140.86006165]]\n",
      "670 0.649286 [[ 151.97297668]\n",
      " [ 184.23571777]\n",
      " [ 180.56439209]\n",
      " [ 197.02384949]\n",
      " [ 140.86212158]]\n",
      "680 0.647543 [[ 151.97091675]\n",
      " [ 184.23713684]\n",
      " [ 180.563797  ]\n",
      " [ 197.02320862]\n",
      " [ 140.86418152]]\n",
      "690 0.6458 [[ 151.96888733]\n",
      " [ 184.23855591]\n",
      " [ 180.56318665]\n",
      " [ 197.02255249]\n",
      " [ 140.8662262 ]]\n",
      "700 0.644062 [[ 151.96685791]\n",
      " [ 184.23997498]\n",
      " [ 180.56260681]\n",
      " [ 197.02189636]\n",
      " [ 140.86828613]]\n",
      "710 0.642339 [[ 151.96482849]\n",
      " [ 184.24139404]\n",
      " [ 180.56201172]\n",
      " [ 197.02124023]\n",
      " [ 140.87031555]]\n",
      "720 0.640626 [[ 151.96281433]\n",
      " [ 184.24281311]\n",
      " [ 180.56141663]\n",
      " [ 197.02061462]\n",
      " [ 140.87236023]]\n",
      "730 0.638921 [[ 151.96078491]\n",
      " [ 184.24420166]\n",
      " [ 180.56082153]\n",
      " [ 197.0199585 ]\n",
      " [ 140.87438965]]\n",
      "740 0.637232 [[ 151.95877075]\n",
      " [ 184.24560547]\n",
      " [ 180.5602417 ]\n",
      " [ 197.01931763]\n",
      " [ 140.87640381]]\n",
      "750 0.635549 [[ 151.95677185]\n",
      " [ 184.24699402]\n",
      " [ 180.55964661]\n",
      " [ 197.0186615 ]\n",
      " [ 140.87840271]]\n",
      "760 0.633868 [[ 151.95477295]\n",
      " [ 184.24838257]\n",
      " [ 180.55905151]\n",
      " [ 197.01803589]\n",
      " [ 140.88043213]]\n",
      "770 0.632209 [[ 151.95277405]\n",
      " [ 184.24978638]\n",
      " [ 180.55848694]\n",
      " [ 197.01741028]\n",
      " [ 140.88243103]]\n",
      "780 0.630542 [[ 151.95079041]\n",
      " [ 184.25115967]\n",
      " [ 180.55789185]\n",
      " [ 197.01675415]\n",
      " [ 140.88442993]]\n",
      "790 0.628895 [[ 151.94880676]\n",
      " [ 184.25254822]\n",
      " [ 180.55732727]\n",
      " [ 197.01612854]\n",
      " [ 140.88642883]]\n",
      "800 0.62724 [[ 151.94683838]\n",
      " [ 184.25393677]\n",
      " [ 180.5567627 ]\n",
      " [ 197.01547241]\n",
      " [ 140.88842773]]\n",
      "810 0.6256 [[ 151.94485474]\n",
      " [ 184.2552948 ]\n",
      " [ 180.55615234]\n",
      " [ 197.01483154]\n",
      " [ 140.89041138]]\n",
      "820 0.623984 [[ 151.94288635]\n",
      " [ 184.25666809]\n",
      " [ 180.55558777]\n",
      " [ 197.01420593]\n",
      " [ 140.89237976]]\n",
      "830 0.622357 [[ 151.94093323]\n",
      " [ 184.25804138]\n",
      " [ 180.55502319]\n",
      " [ 197.01358032]\n",
      " [ 140.89437866]]\n"
     ]
    },
    {
     "name": "stdout",
     "output_type": "stream",
     "text": [
      "840 0.620748 [[ 151.93896484]\n",
      " [ 184.25938416]\n",
      " [ 180.55444336]\n",
      " [ 197.01293945]\n",
      " [ 140.89634705]]\n",
      "850 0.619154 [[ 151.93702698]\n",
      " [ 184.26074219]\n",
      " [ 180.55387878]\n",
      " [ 197.0123291 ]\n",
      " [ 140.89831543]]\n",
      "860 0.61756 [[ 151.93507385]\n",
      " [ 184.26211548]\n",
      " [ 180.55331421]\n",
      " [ 197.01170349]\n",
      " [ 140.90026855]]\n",
      "870 0.61597 [[ 151.93315125]\n",
      " [ 184.26347351]\n",
      " [ 180.55276489]\n",
      " [ 197.01107788]\n",
      " [ 140.90223694]]\n",
      "880 0.614391 [[ 151.93121338]\n",
      " [ 184.26480103]\n",
      " [ 180.5521698 ]\n",
      " [ 197.01043701]\n",
      " [ 140.9041748 ]]\n",
      "890 0.612825 [[ 151.92927551]\n",
      " [ 184.2661438 ]\n",
      " [ 180.55160522]\n",
      " [ 197.0098114 ]\n",
      " [ 140.90611267]]\n",
      "900 0.611259 [[ 151.92735291]\n",
      " [ 184.26748657]\n",
      " [ 180.55105591]\n",
      " [ 197.00918579]\n",
      " [ 140.9080658 ]]\n",
      "910 0.609716 [[ 151.92544556]\n",
      " [ 184.26881409]\n",
      " [ 180.55049133]\n",
      " [ 197.00857544]\n",
      " [ 140.9099884 ]]\n",
      "920 0.608164 [[ 151.92353821]\n",
      " [ 184.27015686]\n",
      " [ 180.54994202]\n",
      " [ 197.00794983]\n",
      " [ 140.91192627]]\n",
      "930 0.606619 [[ 151.92163086]\n",
      " [ 184.27149963]\n",
      " [ 180.54937744]\n",
      " [ 197.00733948]\n",
      " [ 140.91386414]]\n",
      "940 0.605082 [[ 151.91973877]\n",
      " [ 184.27282715]\n",
      " [ 180.54884338]\n",
      " [ 197.00671387]\n",
      " [ 140.915802  ]]\n",
      "950 0.603573 [[ 151.91783142]\n",
      " [ 184.2741394 ]\n",
      " [ 180.54827881]\n",
      " [ 197.00610352]\n",
      " [ 140.91769409]]\n",
      "960 0.602058 [[ 151.91593933]\n",
      " [ 184.27545166]\n",
      " [ 180.54772949]\n",
      " [ 197.00547791]\n",
      " [ 140.91960144]]\n",
      "970 0.600544 [[ 151.91404724]\n",
      " [ 184.27676392]\n",
      " [ 180.54716492]\n",
      " [ 197.00485229]\n",
      " [ 140.92150879]]\n",
      "980 0.599053 [[ 151.91217041]\n",
      " [ 184.27806091]\n",
      " [ 180.5466156 ]\n",
      " [ 197.0042572 ]\n",
      " [ 140.92341614]]\n",
      "990 0.597553 [[ 151.91030884]\n",
      " [ 184.27938843]\n",
      " [ 180.54608154]\n",
      " [ 197.00364685]\n",
      " [ 140.92532349]]\n",
      "1000 0.596077 [[ 151.90843201]\n",
      " [ 184.28068542]\n",
      " [ 180.54553223]\n",
      " [ 197.0030365 ]\n",
      " [ 140.92720032]]\n",
      "1010 0.594595 [[ 151.90658569]\n",
      " [ 184.28199768]\n",
      " [ 180.54499817]\n",
      " [ 197.00244141]\n",
      " [ 140.92910767]]\n",
      "1020 0.593126 [[ 151.90470886]\n",
      " [ 184.28326416]\n",
      " [ 180.54443359]\n",
      " [ 197.00180054]\n",
      " [ 140.93096924]]\n",
      "1030 0.59167 [[ 151.90284729]\n",
      " [ 184.28456116]\n",
      " [ 180.54389954]\n",
      " [ 197.00120544]\n",
      " [ 140.93284607]]\n",
      "1040 0.59021 [[ 151.90101624]\n",
      " [ 184.28585815]\n",
      " [ 180.54336548]\n",
      " [ 197.00059509]\n",
      " [ 140.9347229 ]]\n",
      "1050 0.588758 [[ 151.89916992]\n",
      " [ 184.28713989]\n",
      " [ 180.54283142]\n",
      " [ 196.99998474]\n",
      " [ 140.93659973]]\n",
      "1060 0.587323 [[ 151.89733887]\n",
      " [ 184.28842163]\n",
      " [ 180.54229736]\n",
      " [ 196.99938965]\n",
      " [ 140.9384613 ]]\n",
      "1070 0.585891 [[ 151.89550781]\n",
      " [ 184.28970337]\n",
      " [ 180.54176331]\n",
      " [ 196.99879456]\n",
      " [ 140.94032288]]\n",
      "1080 0.584468 [[ 151.89369202]\n",
      " [ 184.29098511]\n",
      " [ 180.54125977]\n",
      " [ 196.99819946]\n",
      " [ 140.94218445]]\n",
      "1090 0.583055 [[ 151.89186096]\n",
      " [ 184.29223633]\n",
      " [ 180.54071045]\n",
      " [ 196.99760437]\n",
      " [ 140.94403076]]\n",
      "1100 0.58164 [[ 151.89004517]\n",
      " [ 184.29351807]\n",
      " [ 180.54017639]\n",
      " [ 196.99699402]\n",
      " [ 140.94586182]]\n",
      "1110 0.580237 [[ 151.88822937]\n",
      " [ 184.29476929]\n",
      " [ 180.53964233]\n",
      " [ 196.99639893]\n",
      " [ 140.94770813]]\n",
      "1120 0.578839 [[ 151.88642883]\n",
      " [ 184.29603577]\n",
      " [ 180.53913879]\n",
      " [ 196.99580383]\n",
      " [ 140.94955444]]\n",
      "1130 0.577455 [[ 151.8846283 ]\n",
      " [ 184.29728699]\n",
      " [ 180.53860474]\n",
      " [ 196.99520874]\n",
      " [ 140.95137024]]\n",
      "1140 0.576065 [[ 151.88284302]\n",
      " [ 184.29853821]\n",
      " [ 180.53808594]\n",
      " [ 196.99461365]\n",
      " [ 140.95321655]]\n",
      "1150 0.574687 [[ 151.88104248]\n",
      " [ 184.29980469]\n",
      " [ 180.53756714]\n",
      " [ 196.99401855]\n",
      " [ 140.95503235]]\n",
      "1160 0.573327 [[ 151.8792572 ]\n",
      " [ 184.30102539]\n",
      " [ 180.53703308]\n",
      " [ 196.99342346]\n",
      " [ 140.95683289]]\n",
      "1170 0.57197 [[ 151.87747192]\n",
      " [ 184.30226135]\n",
      " [ 180.53651428]\n",
      " [ 196.99284363]\n",
      " [ 140.95864868]]\n",
      "1180 0.570604 [[ 151.8757019 ]\n",
      " [ 184.30352783]\n",
      " [ 180.53601074]\n",
      " [ 196.99224854]\n",
      " [ 140.96046448]]\n",
      "1190 0.569257 [[ 151.87393188]\n",
      " [ 184.30476379]\n",
      " [ 180.5355072 ]\n",
      " [ 196.99165344]\n",
      " [ 140.96226501]]\n",
      "1200 0.567915 [[ 151.87217712]\n",
      " [ 184.30599976]\n",
      " [ 180.5349884 ]\n",
      " [ 196.99107361]\n",
      " [ 140.96406555]]\n",
      "1210 0.566592 [[ 151.8704071 ]\n",
      " [ 184.3072052 ]\n",
      " [ 180.5344696 ]\n",
      " [ 196.99049377]\n",
      " [ 140.96585083]]\n",
      "1220 0.565259 [[ 151.8686676 ]\n",
      " [ 184.30844116]\n",
      " [ 180.53396606]\n",
      " [ 196.98991394]\n",
      " [ 140.96765137]]\n",
      "1230 0.563939 [[ 151.86689758]\n",
      " [ 184.30966187]\n",
      " [ 180.53344727]\n",
      " [ 196.98931885]\n",
      " [ 140.96942139]]\n",
      "1240 0.562621 [[ 151.86515808]\n",
      " [ 184.31086731]\n",
      " [ 180.53294373]\n",
      " [ 196.98872375]\n",
      " [ 140.97120667]]\n",
      "1250 0.561315 [[ 151.86341858]\n",
      " [ 184.31208801]\n",
      " [ 180.53244019]\n",
      " [ 196.98815918]\n",
      " [ 140.97299194]]\n",
      "1260 0.560017 [[ 151.86169434]\n",
      " [ 184.31330872]\n",
      " [ 180.53193665]\n",
      " [ 196.9875946 ]\n",
      " [ 140.97476196]]\n",
      "1270 0.558716 [[ 151.85995483]\n",
      " [ 184.31451416]\n",
      " [ 180.53143311]\n",
      " [ 196.98699951]\n",
      " [ 140.97653198]]\n",
      "1280 0.557433 [[ 151.85823059]\n",
      " [ 184.31570435]\n",
      " [ 180.53092957]\n",
      " [ 196.98641968]\n",
      " [ 140.97828674]]\n",
      "1290 0.556139 [[ 151.85652161]\n",
      " [ 184.31692505]\n",
      " [ 180.53042603]\n",
      " [ 196.98583984]\n",
      " [ 140.98005676]]\n",
      "1300 0.554879 [[ 151.8547821 ]\n",
      " [ 184.31811523]\n",
      " [ 180.52993774]\n",
      " [ 196.98527527]\n",
      " [ 140.98179626]]\n",
      "1310 0.553605 [[ 151.85307312]\n",
      " [ 184.31930542]\n",
      " [ 180.5294342 ]\n",
      " [ 196.98469543]\n",
      " [ 140.98355103]]\n",
      "1320 0.552346 [[ 151.85137939]\n",
      " [ 184.32049561]\n",
      " [ 180.52893066]\n",
      " [ 196.98413086]\n",
      " [ 140.98529053]]\n",
      "1330 0.551086 [[ 151.84967041]\n",
      " [ 184.32167053]\n",
      " [ 180.52844238]\n",
      " [ 196.98353577]\n",
      " [ 140.98703003]]\n",
      "1340 0.549833 [[ 151.84797668]\n",
      " [ 184.32287598]\n",
      " [ 180.5279541 ]\n",
      " [ 196.98297119]\n",
      " [ 140.98876953]]\n",
      "1350 0.548589 [[ 151.84629822]\n",
      " [ 184.3240509 ]\n",
      " [ 180.52746582]\n",
      " [ 196.98240662]\n",
      " [ 140.99050903]]\n",
      "1360 0.547356 [[ 151.84460449]\n",
      " [ 184.32522583]\n",
      " [ 180.52697754]\n",
      " [ 196.98184204]\n",
      " [ 140.99223328]]\n",
      "1370 0.546127 [[ 151.84292603]\n",
      " [ 184.32641602]\n",
      " [ 180.52648926]\n",
      " [ 196.98129272]\n",
      " [ 140.99395752]]\n",
      "1380 0.544898 [[ 151.84124756]\n",
      " [ 184.32756042]\n",
      " [ 180.52598572]\n",
      " [ 196.98069763]\n",
      " [ 140.9956665 ]]\n",
      "1390 0.543683 [[ 151.83956909]\n",
      " [ 184.32873535]\n",
      " [ 180.5255127 ]\n",
      " [ 196.98013306]\n",
      " [ 140.99737549]]\n",
      "1400 0.54247 [[ 151.83790588]\n",
      " [ 184.32989502]\n",
      " [ 180.52502441]\n",
      " [ 196.97956848]\n",
      " [ 140.99908447]]\n",
      "1410 0.541266 [[ 151.83624268]\n",
      " [ 184.33106995]\n",
      " [ 180.52455139]\n",
      " [ 196.97901917]\n",
      " [ 141.00079346]]\n",
      "1420 0.540054 [[ 151.83457947]\n",
      " [ 184.33222961]\n",
      " [ 180.52406311]\n",
      " [ 196.97843933]\n",
      " [ 141.00250244]]\n",
      "1430 0.538869 [[ 151.83294678]\n",
      " [ 184.33338928]\n",
      " [ 180.52359009]\n",
      " [ 196.97790527]\n",
      " [ 141.00419617]]\n",
      "1440 0.537671 [[ 151.83129883]\n",
      " [ 184.33454895]\n",
      " [ 180.52311707]\n",
      " [ 196.9773407 ]\n",
      " [ 141.00590515]]\n",
      "1450 0.536494 [[ 151.82963562]\n",
      " [ 184.3356781 ]\n",
      " [ 180.52262878]\n",
      " [ 196.97676086]\n",
      " [ 141.00756836]]\n",
      "1460 0.535329 [[ 151.82800293]\n",
      " [ 184.33682251]\n",
      " [ 180.52215576]\n",
      " [ 196.97622681]\n",
      " [ 141.00924683]]\n",
      "1470 0.534149 [[ 151.82637024]\n",
      " [ 184.33796692]\n",
      " [ 180.52168274]\n",
      " [ 196.97566223]\n",
      " [ 141.01094055]]\n",
      "1480 0.532983 [[ 151.82473755]\n",
      " [ 184.33911133]\n",
      " [ 180.52120972]\n",
      " [ 196.97509766]\n",
      " [ 141.01260376]]\n",
      "1490 0.531822 [[ 151.82312012]\n",
      " [ 184.34022522]\n",
      " [ 180.52073669]\n",
      " [ 196.97453308]\n",
      " [ 141.01428223]]\n",
      "1500 0.530674 [[ 151.82150269]\n",
      " [ 184.34136963]\n",
      " [ 180.52029419]\n",
      " [ 196.97399902]\n",
      " [ 141.01596069]]\n",
      "1510 0.529527 [[ 151.81990051]\n",
      " [ 184.34251404]\n",
      " [ 180.51982117]\n",
      " [ 196.97346497]\n",
      " [ 141.0176239 ]]\n",
      "1520 0.528378 [[ 151.81826782]\n",
      " [ 184.34362793]\n",
      " [ 180.51933289]\n",
      " [ 196.97288513]\n",
      " [ 141.01927185]]\n",
      "1530 0.527246 [[ 151.81668091]\n",
      " [ 184.34475708]\n",
      " [ 180.51889038]\n",
      " [ 196.97235107]\n",
      " [ 141.02093506]]\n",
      "1540 0.526121 [[ 151.81506348]\n",
      " [ 184.34585571]\n",
      " [ 180.51841736]\n",
      " [ 196.9717865 ]\n",
      " [ 141.02256775]]\n",
      "1550 0.524998 [[ 151.81347656]\n",
      " [ 184.34698486]\n",
      " [ 180.51795959]\n",
      " [ 196.97125244]\n",
      " [ 141.0242157 ]]\n",
      "1560 0.52387 [[ 151.81187439]\n",
      " [ 184.34809875]\n",
      " [ 180.51750183]\n",
      " [ 196.97068787]\n",
      " [ 141.02586365]]\n",
      "1570 0.522753 [[ 151.81028748]\n",
      " [ 184.34921265]\n",
      " [ 180.51702881]\n",
      " [ 196.97015381]\n",
      " [ 141.0275116 ]]\n",
      "1580 0.52165 [[ 151.80871582]\n",
      " [ 184.35032654]\n",
      " [ 180.5165863 ]\n",
      " [ 196.96961975]\n",
      " [ 141.02914429]]\n",
      "1590 0.520542 [[ 151.80711365]\n",
      " [ 184.35140991]\n",
      " [ 180.51611328]\n",
      " [ 196.96903992]\n",
      " [ 141.03076172]]\n",
      "1600 0.519451 [[ 151.80554199]\n",
      " [ 184.35250854]\n",
      " [ 180.51565552]\n",
      " [ 196.96850586]\n",
      " [ 141.03237915]]\n",
      "1610 0.518356 [[ 151.80397034]\n",
      " [ 184.35362244]\n",
      " [ 180.51521301]\n",
      " [ 196.9679718 ]\n",
      " [ 141.03401184]]\n",
      "1620 0.517273 [[ 151.80241394]\n",
      " [ 184.35470581]\n",
      " [ 180.51475525]\n",
      " [ 196.96743774]\n",
      " [ 141.03562927]]\n",
      "1630 0.516192 [[ 151.80085754]\n",
      " [ 184.35580444]\n",
      " [ 180.51431274]\n",
      " [ 196.96690369]\n",
      " [ 141.0372467 ]]\n",
      "1640 0.515118 [[ 151.79928589]\n",
      " [ 184.35690308]\n",
      " [ 180.51385498]\n",
      " [ 196.96636963]\n",
      " [ 141.03884888]]\n",
      "1650 0.514044 [[ 151.79776001]\n",
      " [ 184.35798645]\n",
      " [ 180.51341248]\n",
      " [ 196.96583557]\n",
      " [ 141.04046631]]\n",
      "1660 0.512982 [[ 151.79618835]\n",
      " [ 184.35905457]\n",
      " [ 180.51295471]\n",
      " [ 196.96528625]\n",
      " [ 141.04205322]]\n",
      "1670 0.511921 [[ 151.79464722]\n",
      " [ 184.36013794]\n",
      " [ 180.51251221]\n",
      " [ 196.9647522 ]\n",
      " [ 141.0436554 ]]\n",
      "1680 0.510867 [[ 151.79310608]\n",
      " [ 184.36122131]\n",
      " [ 180.5120697 ]\n",
      " [ 196.96421814]\n",
      " [ 141.04524231]]\n",
      "1690 0.50982 [[ 151.7915802 ]\n",
      " [ 184.36228943]\n",
      " [ 180.5116272 ]\n",
      " [ 196.96368408]\n",
      " [ 141.04682922]]\n",
      "1700 0.508768 [[ 151.79005432]\n",
      " [ 184.36335754]\n",
      " [ 180.51118469]\n",
      " [ 196.96313477]\n",
      " [ 141.04841614]]\n",
      "1710 0.507731 [[ 151.78852844]\n",
      " [ 184.36442566]\n",
      " [ 180.51074219]\n",
      " [ 196.96261597]\n",
      " [ 141.05000305]]\n",
      "1720 0.506704 [[ 151.78701782]\n",
      " [ 184.36550903]\n",
      " [ 180.5103302 ]\n",
      " [ 196.96211243]\n",
      " [ 141.05158997]]\n",
      "1730 0.505676 [[ 151.78549194]\n",
      " [ 184.36654663]\n",
      " [ 180.50987244]\n",
      " [ 196.96156311]\n",
      " [ 141.05314636]]\n",
      "1740 0.504647 [[ 151.78396606]\n",
      " [ 184.36761475]\n",
      " [ 180.50942993]\n",
      " [ 196.96102905]\n",
      " [ 141.05471802]]\n",
      "1750 0.503629 [[ 151.78245544]\n",
      " [ 184.3686676 ]\n",
      " [ 180.50898743]\n",
      " [ 196.960495  ]\n",
      " [ 141.05627441]]\n",
      "1760 0.502614 [[ 151.78096008]\n",
      " [ 184.36972046]\n",
      " [ 180.50856018]\n",
      " [ 196.95996094]\n",
      " [ 141.05783081]]\n",
      "1770 0.501609 [[ 151.77946472]\n",
      " [ 184.37077332]\n",
      " [ 180.50813293]\n",
      " [ 196.9594574 ]\n",
      " [ 141.05940247]]\n",
      "1780 0.500605 [[ 151.77796936]\n",
      " [ 184.37182617]\n",
      " [ 180.50770569]\n",
      " [ 196.95892334]\n",
      " [ 141.0609436 ]]\n",
      "1790 0.499607 [[ 151.77648926]\n",
      " [ 184.37286377]\n",
      " [ 180.50727844]\n",
      " [ 196.9584198 ]\n",
      " [ 141.06251526]]\n"
     ]
    },
    {
     "name": "stdout",
     "output_type": "stream",
     "text": [
      "1800 0.498622 [[ 151.7749939 ]\n",
      " [ 184.37388611]\n",
      " [ 180.5068512 ]\n",
      " [ 196.95788574]\n",
      " [ 141.06404114]]\n",
      "1810 0.497632 [[ 151.77349854]\n",
      " [ 184.37492371]\n",
      " [ 180.50640869]\n",
      " [ 196.95736694]\n",
      " [ 141.06558228]]\n",
      "1820 0.496641 [[ 151.77201843]\n",
      " [ 184.3759613 ]\n",
      " [ 180.50598145]\n",
      " [ 196.95683289]\n",
      " [ 141.06712341]]\n",
      "1830 0.49566 [[ 151.77055359]\n",
      " [ 184.3769989 ]\n",
      " [ 180.50556946]\n",
      " [ 196.95629883]\n",
      " [ 141.06864929]]\n",
      "1840 0.494684 [[ 151.76908875]\n",
      " [ 184.3780365 ]\n",
      " [ 180.50514221]\n",
      " [ 196.95579529]\n",
      " [ 141.07019043]]\n",
      "1850 0.493717 [[ 151.7676239 ]\n",
      " [ 184.37905884]\n",
      " [ 180.50473022]\n",
      " [ 196.95527649]\n",
      " [ 141.07171631]]\n",
      "1860 0.492762 [[ 151.76617432]\n",
      " [ 184.38008118]\n",
      " [ 180.50431824]\n",
      " [ 196.95478821]\n",
      " [ 141.07324219]]\n",
      "1870 0.491801 [[ 151.76470947]\n",
      " [ 184.38108826]\n",
      " [ 180.50389099]\n",
      " [ 196.95425415]\n",
      " [ 141.07475281]]\n",
      "1880 0.490845 [[ 151.76325989]\n",
      " [ 184.3821106 ]\n",
      " [ 180.503479  ]\n",
      " [ 196.95373535]\n",
      " [ 141.07626343]]\n",
      "1890 0.489894 [[ 151.7618103 ]\n",
      " [ 184.38313293]\n",
      " [ 180.50305176]\n",
      " [ 196.95323181]\n",
      " [ 141.07777405]]\n",
      "1900 0.488944 [[ 151.76036072]\n",
      " [ 184.38414001]\n",
      " [ 180.50262451]\n",
      " [ 196.95271301]\n",
      " [ 141.07928467]]\n",
      "1910 0.488003 [[ 151.75892639]\n",
      " [ 184.38514709]\n",
      " [ 180.50221252]\n",
      " [ 196.95219421]\n",
      " [ 141.08078003]]\n",
      "1920 0.487072 [[ 151.75747681]\n",
      " [ 184.38615417]\n",
      " [ 180.50180054]\n",
      " [ 196.95169067]\n",
      " [ 141.08227539]]\n",
      "1930 0.486138 [[ 151.75605774]\n",
      " [ 184.38716125]\n",
      " [ 180.50140381]\n",
      " [ 196.95118713]\n",
      " [ 141.08378601]]\n",
      "1940 0.48521 [[ 151.75462341]\n",
      " [ 184.38816833]\n",
      " [ 180.50099182]\n",
      " [ 196.95066833]\n",
      " [ 141.08526611]]\n",
      "1950 0.484286 [[ 151.75320435]\n",
      " [ 184.38916016]\n",
      " [ 180.50057983]\n",
      " [ 196.95016479]\n",
      " [ 141.08676147]]\n",
      "1960 0.483371 [[ 151.75178528]\n",
      " [ 184.39015198]\n",
      " [ 180.50016785]\n",
      " [ 196.94966125]\n",
      " [ 141.08824158]]\n",
      "1970 0.482457 [[ 151.75036621]\n",
      " [ 184.3911438 ]\n",
      " [ 180.49975586]\n",
      " [ 196.94915771]\n",
      " [ 141.08972168]]\n",
      "1980 0.481546 [[ 151.74894714]\n",
      " [ 184.39213562]\n",
      " [ 180.49934387]\n",
      " [ 196.94865417]\n",
      " [ 141.09120178]]\n",
      "1990 0.48064 [[ 151.74755859]\n",
      " [ 184.39312744]\n",
      " [ 180.4989624 ]\n",
      " [ 196.94815063]\n",
      " [ 141.09268188]]\n",
      "2000 0.479735 [[ 151.74615479]\n",
      " [ 184.39411926]\n",
      " [ 180.49856567]\n",
      " [ 196.94764709]\n",
      " [ 141.09416199]]\n"
     ]
    }
   ],
   "source": [
    "for step in range(2001):\n",
    "    cost_val, hy_val,_ = sess.run([cost,hypothesis,train],\n",
    "                                 feed_dict ={x:x_data,y:y_data})\n",
    "    if step % 10 == 0:\n",
    "        print(step, cost_val, hy_val)"
   ]
  },
  {
   "cell_type": "code",
   "execution_count": null,
   "metadata": {
    "collapsed": true
   },
   "outputs": [],
   "source": []
  },
  {
   "cell_type": "markdown",
   "metadata": {},
   "source": [
    "# Logistic Regression"
   ]
  },
  {
   "cell_type": "code",
   "execution_count": 20,
   "metadata": {},
   "outputs": [
    {
     "name": "stdout",
     "output_type": "stream",
     "text": [
      "0 6.27922\n",
      "200 0.543976\n",
      "400 0.470662\n",
      "600 0.433127\n",
      "800 0.409266\n",
      "1000 0.39144\n",
      "1200 0.376671\n",
      "1400 0.363667\n",
      "1600 0.351819\n",
      "1800 0.340814\n",
      "2000 0.330484\n",
      "2200 0.320727\n",
      "2400 0.311479\n",
      "2600 0.302692\n",
      "2800 0.294332\n",
      "3000 0.28637\n",
      "3200 0.278782\n",
      "3400 0.271543\n",
      "3600 0.264635\n",
      "3800 0.258037\n",
      "4000 0.251733\n",
      "4200 0.245705\n",
      "4400 0.239937\n",
      "4600 0.234416\n",
      "4800 0.229128\n",
      "5000 0.224059\n",
      "5200 0.219198\n",
      "5400 0.214533\n",
      "5600 0.210054\n",
      "5800 0.205751\n",
      "6000 0.201613\n",
      "6200 0.197634\n",
      "6400 0.193804\n",
      "6600 0.190115\n",
      "6800 0.186561\n",
      "7000 0.183134\n",
      "7200 0.179829\n",
      "7400 0.176639\n",
      "7600 0.173559\n",
      "7800 0.170583\n",
      "8000 0.167707\n",
      "8200 0.164925\n",
      "8400 0.162234\n",
      "8600 0.159628\n",
      "8800 0.157105\n",
      "9000 0.15466\n",
      "9200 0.152291\n",
      "9400 0.149993\n",
      "9600 0.147763\n",
      "9800 0.145599\n",
      "10000 0.143498\n",
      "[[ 0.02825841]\n",
      " [ 0.15534125]\n",
      " [ 0.29276142]\n",
      " [ 0.78696787]\n",
      " [ 0.94304067]\n",
      " [ 0.98133814]] [[ 0.]\n",
      " [ 0.]\n",
      " [ 0.]\n",
      " [ 1.]\n",
      " [ 1.]\n",
      " [ 1.]] 1.0\n"
     ]
    }
   ],
   "source": [
    "x_data = [[1,2],[2,3],[3,1],[4,3],[5,3],[6,2]]\n",
    "y_data = [[0],[0],[0],[1],[1],[1]]\n",
    "\n",
    "\n",
    "x = tf.placeholder(tf.float32,shape =[None,2])\n",
    "y = tf.placeholder(tf.float32, shape = [None,1])\n",
    "\n",
    "w = tf.Variable(tf.random_normal([2,1]), name =\"weight\")\n",
    "b = tf.Variable(tf.random_normal([1]), name = 'bias')\n",
    "\n",
    "hypothesis = tf.sigmoid(tf.matmul(x,w)+b)\n",
    "cost = -tf.reduce_mean(y*tf.log(hypothesis) + (1-y)*tf.log(1-hypothesis))\n",
    "train = tf.train.GradientDescentOptimizer(learning_rate =0.01).minimize(cost)\n",
    "predicted = tf.cast(hypothesis > 0.5, dtype = tf.float32)\n",
    "accuracy = tf.reduce_mean(tf.cast(tf.equal(predicted,y),dtype=tf.float32))\n",
    "\n",
    "\n",
    "with tf.Session() as sess:\n",
    "    sess.run(tf.global_variables_initializer())\n",
    "    \n",
    "    for step in range(10001):\n",
    "        cost_val,_ = sess.run([cost,train], feed_dict={x:x_data,y:y_data})\n",
    "        if step % 200 ==0:\n",
    "            print(step, cost_val)\n",
    "    h,c,a = sess.run([hypothesis,predicted,accuracy],\n",
    "                    feed_dict={x:x_data,y:y_data})\n",
    "    print(h,c,a)"
   ]
  },
  {
   "cell_type": "markdown",
   "metadata": {},
   "source": [
    "# Softmax "
   ]
  },
  {
   "cell_type": "code",
   "execution_count": 32,
   "metadata": {},
   "outputs": [
    {
     "name": "stdout",
     "output_type": "stream",
     "text": [
      "0 5.60675\n",
      "200 0.571951\n",
      "400 0.463474\n",
      "600 0.368206\n",
      "800 0.276987\n",
      "1000 0.229116\n",
      "1200 0.207788\n",
      "1400 0.190033\n",
      "1600 0.175009\n",
      "1800 0.162129\n",
      "2000 0.150969\n",
      "[[  3.10828839e-03   9.96881127e-01   1.05765075e-05]] [1]\n",
      "[[  3.10828839e-03   9.96881127e-01   1.05765075e-05]\n",
      " [  8.85993600e-01   9.87197533e-02   1.52865956e-02]\n",
      " [  1.11967582e-08   3.31426156e-04   9.99668598e-01]] [1 0 2]\n"
     ]
    }
   ],
   "source": [
    "x_data =[[1,2,1,1],[2,1,3,2],[3,1,3,4],[4,1,5,5],[1,7,5,5],\n",
    "        [1,2,5,6],[1,6,6,6],[1,7,7,7]]\n",
    "y_data =[[0,0,1],[0,0,1],[0,0,1],[0,1,0],[0,1,0],[0,1,0],[1,0,0],[1,0,0]]\n",
    "\n",
    "x = tf.placeholder(\"float\",[None,4])\n",
    "y = tf.placeholder(\"float\", [None,3])\n",
    "\n",
    "nb_classes = 3\n",
    "\n",
    "w = tf.Variable(tf.random_normal([4,nb_classes]),name=\"weight\")\n",
    "b = tf.Variable(tf.random_normal([nb_classes]), name=\"bias\")\n",
    "\n",
    "hypothesis = tf.nn.softmax(tf.matmul(x,w) + b)\n",
    "\n",
    "cost = tf.reduce_mean(-tf.reduce_sum(y*tf.log(hypothesis), axis=1))\n",
    "\n",
    "train = tf.train.GradientDescentOptimizer(learning_rate =0.1).minimize(cost)\n",
    "\n",
    "with tf.Session() as sess:\n",
    "    sess.run(tf.global_variables_initializer())\n",
    "    \n",
    "    for step in range(2001):\n",
    "        sess.run(train, feed_dict={x:x_data,y:y_data})\n",
    "        if step % 200 ==0:\n",
    "            print(step, sess.run(cost, feed_dict={x:x_data,y:y_data}))\n",
    "    a = sess.run(hypothesis, feed_dict ={x:[[1,11,7,9]]})\n",
    "    print(a,sess.run(tf.arg_max(a,1)))\n",
    "    all = sess.run(hypothesis, feed_dict={x:[[1,11,7,9],\n",
    "                                             [1,3,4,3],\n",
    "                                             [1,1,0,1]]})\n",
    "    print(all, sess.run(tf.arg_max(all,1)))"
   ]
  },
  {
   "cell_type": "code",
   "execution_count": null,
   "metadata": {
    "collapsed": true
   },
   "outputs": [],
   "source": []
  },
  {
   "cell_type": "markdown",
   "metadata": {},
   "source": [
    "# Fancy Softmax "
   ]
  },
  {
   "cell_type": "code",
   "execution_count": null,
   "metadata": {
    "collapsed": true
   },
   "outputs": [],
   "source": []
  },
  {
   "cell_type": "markdown",
   "metadata": {},
   "source": [
    "## softmax_cross_entropy_with_logits"
   ]
  },
  {
   "cell_type": "code",
   "execution_count": null,
   "metadata": {
    "collapsed": true
   },
   "outputs": [],
   "source": [
    "logits = tf.matmul(x,w) + b\n",
    "hypothesis = tf.nn.softmax(logits)"
   ]
  },
  {
   "cell_type": "code",
   "execution_count": null,
   "metadata": {
    "collapsed": true
   },
   "outputs": [],
   "source": [
    "cost = tf.reduce_mean(-tf.reduce_sum(y*tf.log(hypothesis), axis=1))"
   ]
  },
  {
   "cell_type": "code",
   "execution_count": null,
   "metadata": {
    "collapsed": true
   },
   "outputs": [],
   "source": [
    "cost_i = tf.nn.softmax_cross_entropy_with_logits(logits =logits,\n",
    "                                                label =y_one_hot)\n",
    "cost = tf.reduce_mean(cost_i)"
   ]
  },
  {
   "cell_type": "markdown",
   "metadata": {},
   "source": [
    "# pratcie"
   ]
  },
  {
   "cell_type": "code",
   "execution_count": 2,
   "metadata": {
    "collapsed": true
   },
   "outputs": [],
   "source": [
    "import numpy as np"
   ]
  },
  {
   "cell_type": "code",
   "execution_count": 3,
   "metadata": {
    "collapsed": true
   },
   "outputs": [],
   "source": [
    "xy = np.loadtxt(\"data-04-zoo.csv\", delimiter =\",\", dtype =np.float32)"
   ]
  },
  {
   "cell_type": "code",
   "execution_count": 4,
   "metadata": {
    "collapsed": true
   },
   "outputs": [],
   "source": [
    "x_data = xy[:,0:-1]\n",
    "y_data = xy[:,[-1]]\n",
    "nb_classes = 7"
   ]
  },
  {
   "cell_type": "code",
   "execution_count": 6,
   "metadata": {},
   "outputs": [
    {
     "data": {
      "text/plain": [
       "(101, 16)"
      ]
     },
     "execution_count": 6,
     "metadata": {},
     "output_type": "execute_result"
    }
   ],
   "source": [
    "x_data.shape"
   ]
  },
  {
   "cell_type": "code",
   "execution_count": 59,
   "metadata": {
    "collapsed": true
   },
   "outputs": [],
   "source": [
    "# y = tf.placeholder(\"float\",[None,1])\n",
    "# y_one_hot = tf.one_hot(y,nb_classes)\n",
    "# y_one_hot = tf.reshape(y_one_hot,[-1, nb_classes])"
   ]
  },
  {
   "cell_type": "code",
   "execution_count": null,
   "metadata": {
    "collapsed": true
   },
   "outputs": [],
   "source": []
  },
  {
   "cell_type": "code",
   "execution_count": 49,
   "metadata": {},
   "outputs": [
    {
     "name": "stdout",
     "output_type": "stream",
     "text": [
      "(101, 16)\n",
      "(101, 1)\n"
     ]
    }
   ],
   "source": [
    "print(x_data.shape)\n",
    "print(y_data.shape)"
   ]
  },
  {
   "cell_type": "code",
   "execution_count": null,
   "metadata": {
    "collapsed": true
   },
   "outputs": [],
   "source": []
  },
  {
   "cell_type": "code",
   "execution_count": 58,
   "metadata": {},
   "outputs": [
    {
     "name": "stdout",
     "output_type": "stream",
     "text": [
      "step:     0\tLoss: 5.289\tAcc: 0.26\n",
      "step:   100\tLoss: 0.624\tAcc: 0.86\n",
      "step:   200\tLoss: 0.425\tAcc: 0.88\n",
      "step:   300\tLoss: 0.332\tAcc: 0.88\n",
      "step:   400\tLoss: 0.271\tAcc: 0.92\n",
      "step:   500\tLoss: 0.227\tAcc: 0.95\n",
      "step:   600\tLoss: 0.194\tAcc: 0.95\n",
      "step:   700\tLoss: 0.168\tAcc: 0.95\n",
      "step:   800\tLoss: 0.148\tAcc: 0.96\n",
      "step:   900\tLoss: 0.132\tAcc: 0.96\n",
      "step:  1000\tLoss: 0.118\tAcc: 0.98\n",
      "step:  1100\tLoss: 0.107\tAcc: 0.98\n",
      "step:  1200\tLoss: 0.098\tAcc: 0.98\n",
      "step:  1300\tLoss: 0.090\tAcc: 0.98\n",
      "step:  1400\tLoss: 0.083\tAcc: 0.98\n",
      "step:  1500\tLoss: 0.077\tAcc: 0.99\n",
      "step:  1600\tLoss: 0.072\tAcc: 0.99\n",
      "step:  1700\tLoss: 0.067\tAcc: 1.00\n",
      "step:  1800\tLoss: 0.063\tAcc: 1.00\n",
      "step:  1900\tLoss: 0.059\tAcc: 1.00\n",
      "step:  2000\tLoss: 0.056\tAcc: 1.00\n"
     ]
    }
   ],
   "source": [
    "nb_classes = 7\n",
    "x = tf.placeholder(tf.float32,[None,16])\n",
    "y = tf.placeholder(tf.int32,[None,1])\n",
    "y_one_hot = tf.one_hot(y,nb_classes)\n",
    "y_one_hot = tf.reshape(y_one_hot,[-1, nb_classes])\n",
    "\n",
    "\n",
    "w = tf.Variable(tf.random_normal([16,nb_classes]),name=\"weight\")\n",
    "b = tf.Variable(tf.random_normal([nb_classes]), name ='bias')\n",
    "\n",
    "\n",
    "logits =tf.matmul(x,w) + b\n",
    "hypothesis = tf.nn.softmax(logits)\n",
    "\n",
    "\n",
    "cost_i = tf.nn.softmax_cross_entropy_with_logits(logits =logits,\n",
    "                                                labels =y_one_hot)\n",
    "prediction = tf.argmax(hypothesis,1)\n",
    "correct_prediction = tf.equal(prediction, tf.argmax(y_one_hot,1))\n",
    "accuracy = tf.reduce_mean(tf.cast(correct_prediction,tf.float32))\n",
    "\n",
    "cost = tf.reduce_mean(cost_i)\n",
    "train = tf.train.GradientDescentOptimizer(learning_rate =0.1).minimize(cost)\n",
    "\n",
    "with tf.Session() as sess:\n",
    "    sess.run(tf.global_variables_initializer())\n",
    "    for step in range(2001):\n",
    "        sess.run(train, feed_dict={x:x_data,y:y_data})\n",
    "        if step % 100 ==0:\n",
    "            loss,acc =sess.run([cost,accuracy], feed_dict={x:x_data,\n",
    "                                                          y:y_data})\n",
    "            print(\"step: {:5}\\tLoss: {:.3f}\\tAcc: {:.2f}\".format(step,loss,acc))\n"
   ]
  },
  {
   "cell_type": "code",
   "execution_count": null,
   "metadata": {
    "collapsed": true
   },
   "outputs": [],
   "source": []
  }
 ],
 "metadata": {
  "kernelspec": {
   "display_name": "Python 3",
   "language": "python",
   "name": "python3"
  },
  "language_info": {
   "codemirror_mode": {
    "name": "ipython",
    "version": 3
   },
   "file_extension": ".py",
   "mimetype": "text/x-python",
   "name": "python",
   "nbconvert_exporter": "python",
   "pygments_lexer": "ipython3",
   "version": "3.6.3"
  }
 },
 "nbformat": 4,
 "nbformat_minor": 2
}
